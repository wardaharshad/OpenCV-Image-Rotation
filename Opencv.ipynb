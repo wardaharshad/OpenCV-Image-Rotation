{
 "cells": [
  {
   "cell_type": "code",
   "execution_count": 2,
   "id": "subsequent-awareness",
   "metadata": {},
   "outputs": [],
   "source": [
    "#how to read an image\n",
    "import cv2\n",
    "\n",
    "img = cv2.imread(\"image.jfif\")\n",
    "\n",
    "cv2.imshow(\"OutputImage\",img)\n",
    "\n",
    "cv2.waitKey(0)\n",
    "cv2.destroyAllWindows()"
   ]
  },
  {
   "cell_type": "code",
   "execution_count": 3,
   "id": "proved-calendar",
   "metadata": {},
   "outputs": [],
   "source": [
    "#how to make an image black and white\n",
    "import cv2\n",
    "\n",
    "img = cv2.imread(\"image.jfif\",0)\n",
    "\n",
    "cv2.imshow(\"OutputImage\",img)\n",
    "\n",
    "cv2.waitKey(0)\n",
    "cv2.destroyAllWindows()"
   ]
  },
  {
   "cell_type": "code",
   "execution_count": 4,
   "id": "annoying-alpha",
   "metadata": {},
   "outputs": [
    {
     "name": "stdout",
     "output_type": "stream",
     "text": [
      "(183, 275)\n"
     ]
    }
   ],
   "source": [
    "#how to findout/ get pixels of image\n",
    "\n",
    "import cv2\n",
    "\n",
    "img = cv2.imread(\"image.jfif\",0)\n",
    "\n",
    "cv2.imshow(\"OutputImage\",img)\n",
    "print(img.shape)\n",
    "\n",
    "cv2.waitKey(0)\n",
    "cv2.destroyAllWindows()"
   ]
  },
  {
   "cell_type": "code",
   "execution_count": 7,
   "id": "invisible-consumption",
   "metadata": {},
   "outputs": [
    {
     "name": "stdout",
     "output_type": "stream",
     "text": [
      "(183, 275)\n",
      "Height pixel of image: 183\n"
     ]
    }
   ],
   "source": [
    "#how to height of image of image only\n",
    "import cv2\n",
    "\n",
    "img = cv2.imread(\"image.jfif\",0)\n",
    "\n",
    "cv2.imshow(\"OutputImage\",img)\n",
    "print(img.shape)\n",
    "\n",
    "print(\"Height pixel of image:\" ,img.shape[0])\n",
    "\n",
    "cv2.waitKey(0)\n",
    "cv2.destroyAllWindows()"
   ]
  },
  {
   "cell_type": "code",
   "execution_count": 8,
   "id": "digital-conviction",
   "metadata": {},
   "outputs": [],
   "source": [
    "#image rotation\n",
    "\n",
    "img = cv2.imread(\"image.jfif\")\n",
    "\n",
    "height,width = img.shape[:2]\n",
    "\n",
    "rotation_matrix= cv2.getRotationMatrix2D((width/2,height/2),70,0.5)\n",
    "rotated_image = cv2.warpAffine(img, rotation_matrix,(width,height))\n",
    "\n",
    "cv2.imshow(\"Original Image\",img)\n",
    "cv2.imshow(\"Rotated Image\",rotated_image)\n",
    "\n",
    "cv2.waitKey(0)\n",
    "cv2.destroyAllWindows()"
   ]
  },
  {
   "cell_type": "code",
   "execution_count": null,
   "id": "metric-congress",
   "metadata": {},
   "outputs": [],
   "source": []
  }
 ],
 "metadata": {
  "kernelspec": {
   "display_name": "Python 3",
   "language": "python",
   "name": "python3"
  },
  "language_info": {
   "codemirror_mode": {
    "name": "ipython",
    "version": 3
   },
   "file_extension": ".py",
   "mimetype": "text/x-python",
   "name": "python",
   "nbconvert_exporter": "python",
   "pygments_lexer": "ipython3",
   "version": "3.8.7"
  }
 },
 "nbformat": 4,
 "nbformat_minor": 5
}
